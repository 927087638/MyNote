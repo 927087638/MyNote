{
 "cells": [
  {
   "cell_type": "code",
   "execution_count": null,
   "metadata": {
    "collapsed": false
   },
   "outputs": [],
   "source": [
    "# 查看当前挂载的数据集目录   ls /home/aistudio/data"
   ]
  },
  {
   "cell_type": "code",
   "execution_count": 1,
   "metadata": {
    "collapsed": false
   },
   "outputs": [],
   "source": [
    "import sklearn"
   ]
  },
  {
   "cell_type": "markdown",
   "metadata": {
    "collapsed": false
   },
   "source": [
    "# 1 监督学习 supervised learning"
   ]
  },
  {
   "cell_type": "markdown",
   "metadata": {
    "collapsed": false
   },
   "source": [
    "## 1.1 回归"
   ]
  },
  {
   "cell_type": "code",
   "execution_count": 3,
   "metadata": {
    "collapsed": false
   },
   "outputs": [
    {
     "name": "stdout",
     "output_type": "stream",
     "text": [
      "Coefficients: \n",
      " [938.23786125]\n",
      "Mean squared error: 2548.07\n",
      "Coefficient of determination: 0.47\n"
     ]
    },
    {
     "data": {
      "image/png": "[encoded data removed]",
      "text/plain": [
       "<Figure size 432x288 with 1 Axes>"
      ]
     },
     "metadata": {},
     "output_type": "display_data"
    }
   ],
   "source": [
    "import matplotlib.pyplot as plt\r\n",
    "import numpy as np\r\n",
    "from sklearn import datasets, linear_model\r\n",
    "from sklearn.metrics import mean_squared_error, r2_score\r\n",
    "\r\n",
    "# Load the diabetes dataset\r\n",
    "diabetes_X, diabetes_y = datasets.load_diabetes(return_X_y=True)\r\n",
    "diabetes_X = diabetes_X[:, np.newaxis, 2]\r\n",
    "diabetes_X_train = diabetes_X[:-20]\r\n",
    "diabetes_X_test = diabetes_X[-20:]\r\n",
    "diabetes_y_train = diabetes_y[:-20]\r\n",
    "diabetes_y_test = diabetes_y[-20:]\r\n",
    "\r\n",
    "# step 0:Create linear regression object\r\n",
    "regr = linear_model.LinearRegression()\r\n",
    "# step 1:Train the model using the training sets\r\n",
    "regr.fit(diabetes_X_train, diabetes_y_train)\r\n",
    "# step 2:Make predictions using the testing set\r\n",
    "diabetes_y_pred = regr.predict(diabetes_X_test)\r\n",
    "\r\n",
    "# performance parameters\r\n",
    "print('Coefficients: \\n', regr.coef_)\r\n",
    "print('Mean squared error: %.2f'\r\n",
    "      % mean_squared_error(diabetes_y_test, diabetes_y_pred))\r\n",
    "print('Coefficient of determination: %.2f'\r\n",
    "      % r2_score(diabetes_y_test, diabetes_y_pred))\r\n",
    "\r\n",
    "# Plot outputs\r\n",
    "plt.scatter(diabetes_X_test, diabetes_y_test,  color='black')\r\n",
    "plt.plot(diabetes_X_test, diabetes_y_pred, color='blue', linewidth=3)\r\n",
    "\r\n",
    "plt.xticks(())\r\n",
    "plt.yticks(())\r\n",
    "\r\n",
    "plt.show()"
   ]
  },
  {
   "cell_type": "markdown",
   "metadata": {
    "collapsed": false
   },
   "source": [
    "## 1.4 SVM\n",
    "- 在高维空间中非常高效.\n",
    "- 即使在数据维度比样本数量大的情况下仍然有效.\n",
    "- 在决策函数（称为支持向量）中使用训练集的子集,因此它也是高效利用内存的.\n",
    "- 通用性: 不同的**核函数**与特定的决策函数一一对应.常见的 kernel 已经提供,也可以指定定制的内核."
   ]
  },
  {
   "cell_type": "code",
   "execution_count": null,
   "metadata": {
    "collapsed": false
   },
   "outputs": [],
   "source": []
  },
  {
   "cell_type": "markdown",
   "metadata": {
    "collapsed": false
   },
   "source": [
    "## 1.10 决策树"
   ]
  },
  {
   "cell_type": "code",
   "execution_count": 27,
   "metadata": {
    "collapsed": false
   },
   "outputs": [
    {
     "name": "stdout",
     "output_type": "stream",
     "text": [
      "['setosa' 'versicolor' 'virginica']\n",
      "['sepal length (cm)', 'sepal width (cm)', 'petal length (cm)', 'petal width (cm)']\n",
      "0.9111111111111111\n"
     ]
    },
    {
     "data": {
      "image/svg+xml": [
       "<?xml version=\"1.0\" encoding=\"UTF-8\" standalone=\"no\"?>\n",
       "<!DOCTYPE svg PUBLIC \"-//W3C//DTD SVG 1.1//EN\"\n",
       " \"http://www.w3.org/Graphics/SVG/1.1/DTD/svg11.dtd\">\n",
       "<!-- Generated by graphviz version 2.38.0 (20140413.2041)\n",
       " -->\n",
       "<!-- Title: Tree Pages: 1 -->\n",
       "<svg width=\"654pt\" height=\"671pt\"\n",
       " viewBox=\"0.00 0.00 654.00 671.00\" xmlns=\"http://www.w3.org/2000/svg\" xmlns:xlink=\"http://www.w3.org/1999/xlink\">\n",
       "<g id=\"graph0\" class=\"graph\" transform=\"scale(1 1) rotate(0) translate(4 667)\">\n",
       "<title>Tree</title>\n",
       "<polygon fill=\"white\" stroke=\"none\" points=\"-4,4 -4,-667 650,-667 650,4 -4,4\"/>\n",
       "<!-- 0 -->\n",
       "<g id=\"node1\" class=\"node\"><title>0</title>\n",
       "<polygon fill=\"none\" stroke=\"black\" points=\"353,-663 204,-663 204,-580 353,-580 353,-663\"/>\n",
       "<text text-anchor=\"middle\" x=\"278.5\" y=\"-647.8\" font-family=\"Times,serif\" font-size=\"14.00\">petal width (cm) &lt;= 0.8</text>\n",
       "<text text-anchor=\"middle\" x=\"278.5\" y=\"-632.8\" font-family=\"Times,serif\" font-size=\"14.00\">gini = 0.664</text>\n",
       "<text text-anchor=\"middle\" x=\"278.5\" y=\"-617.8\" font-family=\"Times,serif\" font-size=\"14.00\">samples = 105</text>\n",
       "<text text-anchor=\"middle\" x=\"278.5\" y=\"-602.8\" font-family=\"Times,serif\" font-size=\"14.00\">value = [37, 37, 31]</text>\n",
       "<text text-anchor=\"middle\" x=\"278.5\" y=\"-587.8\" font-family=\"Times,serif\" font-size=\"14.00\">class = setosa</text>\n",
       "</g>\n",
       "<!-- 1 -->\n",
       "<g id=\"node2\" class=\"node\"><title>1</title>\n",
       "<polygon fill=\"none\" stroke=\"black\" points=\"258,-536.5 145,-536.5 145,-468.5 258,-468.5 258,-536.5\"/>\n",
       "<text text-anchor=\"middle\" x=\"201.5\" y=\"-521.3\" font-family=\"Times,serif\" font-size=\"14.00\">gini = 0.0</text>\n",
       "<text text-anchor=\"middle\" x=\"201.5\" y=\"-506.3\" font-family=\"Times,serif\" font-size=\"14.00\">samples = 37</text>\n",
       "<text text-anchor=\"middle\" x=\"201.5\" y=\"-491.3\" font-family=\"Times,serif\" font-size=\"14.00\">value = [37, 0, 0]</text>\n",
       "<text text-anchor=\"middle\" x=\"201.5\" y=\"-476.3\" font-family=\"Times,serif\" font-size=\"14.00\">class = setosa</text>\n",
       "</g>\n",
       "<!-- 0&#45;&gt;1 -->\n",
       "<g id=\"edge1\" class=\"edge\"><title>0&#45;&gt;1</title>\n",
       "<path fill=\"none\" stroke=\"black\" d=\"M251.785,-579.907C244.378,-568.652 236.327,-556.418 228.882,-545.106\"/>\n",
       "<polygon fill=\"black\" stroke=\"black\" points=\"231.749,-543.096 223.328,-536.667 225.902,-546.944 231.749,-543.096\"/>\n",
       "<text text-anchor=\"middle\" x=\"218.279\" y=\"-557.452\" font-family=\"Times,serif\" font-size=\"14.00\">True</text>\n",
       "</g>\n",
       "<!-- 2 -->\n",
       "<g id=\"node3\" class=\"node\"><title>2</title>\n",
       "<polygon fill=\"none\" stroke=\"black\" points=\"434.5,-544 276.5,-544 276.5,-461 434.5,-461 434.5,-544\"/>\n",
       "<text text-anchor=\"middle\" x=\"355.5\" y=\"-528.8\" font-family=\"Times,serif\" font-size=\"14.00\">petal length (cm) &lt;= 4.85</text>\n",
       "<text text-anchor=\"middle\" x=\"355.5\" y=\"-513.8\" font-family=\"Times,serif\" font-size=\"14.00\">gini = 0.496</text>\n",
       "<text text-anchor=\"middle\" x=\"355.5\" y=\"-498.8\" font-family=\"Times,serif\" font-size=\"14.00\">samples = 68</text>\n",
       "<text text-anchor=\"middle\" x=\"355.5\" y=\"-483.8\" font-family=\"Times,serif\" font-size=\"14.00\">value = [0, 37, 31]</text>\n",
       "<text text-anchor=\"middle\" x=\"355.5\" y=\"-468.8\" font-family=\"Times,serif\" font-size=\"14.00\">class = versicolor</text>\n",
       "</g>\n",
       "<!-- 0&#45;&gt;2 -->\n",
       "<g id=\"edge2\" class=\"edge\"><title>0&#45;&gt;2</title>\n",
       "<path fill=\"none\" stroke=\"black\" d=\"M305.215,-579.907C311.008,-571.105 317.195,-561.703 323.178,-552.612\"/>\n",
       "<polygon fill=\"black\" stroke=\"black\" points=\"326.259,-554.298 328.832,-544.021 320.411,-550.45 326.259,-554.298\"/>\n",
       "<text text-anchor=\"middle\" x=\"333.881\" y=\"-564.806\" font-family=\"Times,serif\" font-size=\"14.00\">False</text>\n",
       "</g>\n",
       "<!-- 3 -->\n",
       "<g id=\"node4\" class=\"node\"><title>3</title>\n",
       "<polygon fill=\"none\" stroke=\"black\" points=\"347.5,-425 187.5,-425 187.5,-342 347.5,-342 347.5,-425\"/>\n",
       "<text text-anchor=\"middle\" x=\"267.5\" y=\"-409.8\" font-family=\"Times,serif\" font-size=\"14.00\">sepal length (cm) &lt;= 4.95</text>\n",
       "<text text-anchor=\"middle\" x=\"267.5\" y=\"-394.8\" font-family=\"Times,serif\" font-size=\"14.00\">gini = 0.056</text>\n",
       "<text text-anchor=\"middle\" x=\"267.5\" y=\"-379.8\" font-family=\"Times,serif\" font-size=\"14.00\">samples = 35</text>\n",
       "<text text-anchor=\"middle\" x=\"267.5\" y=\"-364.8\" font-family=\"Times,serif\" font-size=\"14.00\">value = [0, 34, 1]</text>\n",
       "<text text-anchor=\"middle\" x=\"267.5\" y=\"-349.8\" font-family=\"Times,serif\" font-size=\"14.00\">class = versicolor</text>\n",
       "</g>\n",
       "<!-- 2&#45;&gt;3 -->\n",
       "<g id=\"edge3\" class=\"edge\"><title>2&#45;&gt;3</title>\n",
       "<path fill=\"none\" stroke=\"black\" d=\"M324.969,-460.907C318.211,-451.923 310.985,-442.315 304.016,-433.05\"/>\n",
       "<polygon fill=\"black\" stroke=\"black\" points=\"306.785,-430.909 297.977,-425.021 301.191,-435.116 306.785,-430.909\"/>\n",
       "</g>\n",
       "<!-- 8 -->\n",
       "<g id=\"node9\" class=\"node\"><title>8</title>\n",
       "<polygon fill=\"none\" stroke=\"black\" points=\"521,-425 366,-425 366,-342 521,-342 521,-425\"/>\n",
       "<text text-anchor=\"middle\" x=\"443.5\" y=\"-409.8\" font-family=\"Times,serif\" font-size=\"14.00\">petal width (cm) &lt;= 1.75</text>\n",
       "<text text-anchor=\"middle\" x=\"443.5\" y=\"-394.8\" font-family=\"Times,serif\" font-size=\"14.00\">gini = 0.165</text>\n",
       "<text text-anchor=\"middle\" x=\"443.5\" y=\"-379.8\" font-family=\"Times,serif\" font-size=\"14.00\">samples = 33</text>\n",
       "<text text-anchor=\"middle\" x=\"443.5\" y=\"-364.8\" font-family=\"Times,serif\" font-size=\"14.00\">value = [0, 3, 30]</text>\n",
       "<text text-anchor=\"middle\" x=\"443.5\" y=\"-349.8\" font-family=\"Times,serif\" font-size=\"14.00\">class = virginica</text>\n",
       "</g>\n",
       "<!-- 2&#45;&gt;8 -->\n",
       "<g id=\"edge8\" class=\"edge\"><title>2&#45;&gt;8</title>\n",
       "<path fill=\"none\" stroke=\"black\" d=\"M386.031,-460.907C392.789,-451.923 400.015,-442.315 406.984,-433.05\"/>\n",
       "<polygon fill=\"black\" stroke=\"black\" points=\"409.809,-435.116 413.023,-425.021 404.215,-430.909 409.809,-435.116\"/>\n",
       "</g>\n",
       "<!-- 4 -->\n",
       "<g id=\"node5\" class=\"node\"><title>4</title>\n",
       "<polygon fill=\"none\" stroke=\"black\" points=\"199,-306 42,-306 42,-223 199,-223 199,-306\"/>\n",
       "<text text-anchor=\"middle\" x=\"120.5\" y=\"-290.8\" font-family=\"Times,serif\" font-size=\"14.00\">sepal width (cm) &lt;= 2.45</text>\n",
       "<text text-anchor=\"middle\" x=\"120.5\" y=\"-275.8\" font-family=\"Times,serif\" font-size=\"14.00\">gini = 0.5</text>\n",
       "<text text-anchor=\"middle\" x=\"120.5\" y=\"-260.8\" font-family=\"Times,serif\" font-size=\"14.00\">samples = 2</text>\n",
       "<text text-anchor=\"middle\" x=\"120.5\" y=\"-245.8\" font-family=\"Times,serif\" font-size=\"14.00\">value = [0, 1, 1]</text>\n",
       "<text text-anchor=\"middle\" x=\"120.5\" y=\"-230.8\" font-family=\"Times,serif\" font-size=\"14.00\">class = versicolor</text>\n",
       "</g>\n",
       "<!-- 3&#45;&gt;4 -->\n",
       "<g id=\"edge4\" class=\"edge\"><title>3&#45;&gt;4</title>\n",
       "<path fill=\"none\" stroke=\"black\" d=\"M216.499,-341.907C204.527,-332.379 191.673,-322.148 179.387,-312.37\"/>\n",
       "<polygon fill=\"black\" stroke=\"black\" points=\"181.415,-309.51 171.411,-306.021 177.055,-314.987 181.415,-309.51\"/>\n",
       "</g>\n",
       "<!-- 7 -->\n",
       "<g id=\"node8\" class=\"node\"><title>7</title>\n",
       "<polygon fill=\"none\" stroke=\"black\" points=\"330,-298.5 217,-298.5 217,-230.5 330,-230.5 330,-298.5\"/>\n",
       "<text text-anchor=\"middle\" x=\"273.5\" y=\"-283.3\" font-family=\"Times,serif\" font-size=\"14.00\">gini = 0.0</text>\n",
       "<text text-anchor=\"middle\" x=\"273.5\" y=\"-268.3\" font-family=\"Times,serif\" font-size=\"14.00\">samples = 33</text>\n",
       "<text text-anchor=\"middle\" x=\"273.5\" y=\"-253.3\" font-family=\"Times,serif\" font-size=\"14.00\">value = [0, 33, 0]</text>\n",
       "<text text-anchor=\"middle\" x=\"273.5\" y=\"-238.3\" font-family=\"Times,serif\" font-size=\"14.00\">class = versicolor</text>\n",
       "</g>\n",
       "<!-- 3&#45;&gt;7 -->\n",
       "<g id=\"edge7\" class=\"edge\"><title>3&#45;&gt;7</title>\n",
       "<path fill=\"none\" stroke=\"black\" d=\"M269.582,-341.907C270.131,-331.204 270.725,-319.615 271.281,-308.776\"/>\n",
       "<polygon fill=\"black\" stroke=\"black\" points=\"274.782,-308.833 271.799,-298.667 267.791,-308.475 274.782,-308.833\"/>\n",
       "</g>\n",
       "<!-- 5 -->\n",
       "<g id=\"node6\" class=\"node\"><title>5</title>\n",
       "<polygon fill=\"none\" stroke=\"black\" points=\"113,-179.5 0,-179.5 0,-111.5 113,-111.5 113,-179.5\"/>\n",
       "<text text-anchor=\"middle\" x=\"56.5\" y=\"-164.3\" font-family=\"Times,serif\" font-size=\"14.00\">gini = 0.0</text>\n",
       "<text text-anchor=\"middle\" x=\"56.5\" y=\"-149.3\" font-family=\"Times,serif\" font-size=\"14.00\">samples = 1</text>\n",
       "<text text-anchor=\"middle\" x=\"56.5\" y=\"-134.3\" font-family=\"Times,serif\" font-size=\"14.00\">value = [0, 1, 0]</text>\n",
       "<text text-anchor=\"middle\" x=\"56.5\" y=\"-119.3\" font-family=\"Times,serif\" font-size=\"14.00\">class = versicolor</text>\n",
       "</g>\n",
       "<!-- 4&#45;&gt;5 -->\n",
       "<g id=\"edge5\" class=\"edge\"><title>4&#45;&gt;5</title>\n",
       "<path fill=\"none\" stroke=\"black\" d=\"M98.2955,-222.907C92.2596,-211.873 85.709,-199.898 79.6235,-188.773\"/>\n",
       "<polygon fill=\"black\" stroke=\"black\" points=\"82.5123,-186.76 74.6426,-179.667 76.371,-190.12 82.5123,-186.76\"/>\n",
       "</g>\n",
       "<!-- 6 -->\n",
       "<g id=\"node7\" class=\"node\"><title>6</title>\n",
       "<polygon fill=\"none\" stroke=\"black\" points=\"238,-179.5 131,-179.5 131,-111.5 238,-111.5 238,-179.5\"/>\n",
       "<text text-anchor=\"middle\" x=\"184.5\" y=\"-164.3\" font-family=\"Times,serif\" font-size=\"14.00\">gini = 0.0</text>\n",
       "<text text-anchor=\"middle\" x=\"184.5\" y=\"-149.3\" font-family=\"Times,serif\" font-size=\"14.00\">samples = 1</text>\n",
       "<text text-anchor=\"middle\" x=\"184.5\" y=\"-134.3\" font-family=\"Times,serif\" font-size=\"14.00\">value = [0, 0, 1]</text>\n",
       "<text text-anchor=\"middle\" x=\"184.5\" y=\"-119.3\" font-family=\"Times,serif\" font-size=\"14.00\">class = virginica</text>\n",
       "</g>\n",
       "<!-- 4&#45;&gt;6 -->\n",
       "<g id=\"edge6\" class=\"edge\"><title>4&#45;&gt;6</title>\n",
       "<path fill=\"none\" stroke=\"black\" d=\"M142.704,-222.907C148.74,-211.873 155.291,-199.898 161.376,-188.773\"/>\n",
       "<polygon fill=\"black\" stroke=\"black\" points=\"164.629,-190.12 166.357,-179.667 158.488,-186.76 164.629,-190.12\"/>\n",
       "</g>\n",
       "<!-- 9 -->\n",
       "<g id=\"node10\" class=\"node\"><title>9</title>\n",
       "<polygon fill=\"none\" stroke=\"black\" points=\"515,-306 360,-306 360,-223 515,-223 515,-306\"/>\n",
       "<text text-anchor=\"middle\" x=\"437.5\" y=\"-290.8\" font-family=\"Times,serif\" font-size=\"14.00\">petal width (cm) &lt;= 1.55</text>\n",
       "<text text-anchor=\"middle\" x=\"437.5\" y=\"-275.8\" font-family=\"Times,serif\" font-size=\"14.00\">gini = 0.48</text>\n",
       "<text text-anchor=\"middle\" x=\"437.5\" y=\"-260.8\" font-family=\"Times,serif\" font-size=\"14.00\">samples = 5</text>\n",
       "<text text-anchor=\"middle\" x=\"437.5\" y=\"-245.8\" font-family=\"Times,serif\" font-size=\"14.00\">value = [0, 3, 2]</text>\n",
       "<text text-anchor=\"middle\" x=\"437.5\" y=\"-230.8\" font-family=\"Times,serif\" font-size=\"14.00\">class = versicolor</text>\n",
       "</g>\n",
       "<!-- 8&#45;&gt;9 -->\n",
       "<g id=\"edge9\" class=\"edge\"><title>8&#45;&gt;9</title>\n",
       "<path fill=\"none\" stroke=\"black\" d=\"M441.418,-341.907C440.99,-333.558 440.534,-324.671 440.091,-316.02\"/>\n",
       "<polygon fill=\"black\" stroke=\"black\" points=\"443.586,-315.828 439.578,-306.021 436.595,-316.187 443.586,-315.828\"/>\n",
       "</g>\n",
       "<!-- 14 -->\n",
       "<g id=\"node15\" class=\"node\"><title>14</title>\n",
       "<polygon fill=\"none\" stroke=\"black\" points=\"646,-298.5 533,-298.5 533,-230.5 646,-230.5 646,-298.5\"/>\n",
       "<text text-anchor=\"middle\" x=\"589.5\" y=\"-283.3\" font-family=\"Times,serif\" font-size=\"14.00\">gini = 0.0</text>\n",
       "<text text-anchor=\"middle\" x=\"589.5\" y=\"-268.3\" font-family=\"Times,serif\" font-size=\"14.00\">samples = 28</text>\n",
       "<text text-anchor=\"middle\" x=\"589.5\" y=\"-253.3\" font-family=\"Times,serif\" font-size=\"14.00\">value = [0, 0, 28]</text>\n",
       "<text text-anchor=\"middle\" x=\"589.5\" y=\"-238.3\" font-family=\"Times,serif\" font-size=\"14.00\">class = virginica</text>\n",
       "</g>\n",
       "<!-- 8&#45;&gt;14 -->\n",
       "<g id=\"edge14\" class=\"edge\"><title>8&#45;&gt;14</title>\n",
       "<path fill=\"none\" stroke=\"black\" d=\"M494.154,-341.907C509.025,-329.99 525.265,-316.976 540.06,-305.12\"/>\n",
       "<polygon fill=\"black\" stroke=\"black\" points=\"542.497,-307.652 548.112,-298.667 538.12,-302.189 542.497,-307.652\"/>\n",
       "</g>\n",
       "<!-- 10 -->\n",
       "<g id=\"node11\" class=\"node\"><title>10</title>\n",
       "<polygon fill=\"none\" stroke=\"black\" points=\"422.5,-187 270.5,-187 270.5,-104 422.5,-104 422.5,-187\"/>\n",
       "<text text-anchor=\"middle\" x=\"346.5\" y=\"-171.8\" font-family=\"Times,serif\" font-size=\"14.00\">petal length (cm) &lt;= 5.0</text>\n",
       "<text text-anchor=\"middle\" x=\"346.5\" y=\"-156.8\" font-family=\"Times,serif\" font-size=\"14.00\">gini = 0.444</text>\n",
       "<text text-anchor=\"middle\" x=\"346.5\" y=\"-141.8\" font-family=\"Times,serif\" font-size=\"14.00\">samples = 3</text>\n",
       "<text text-anchor=\"middle\" x=\"346.5\" y=\"-126.8\" font-family=\"Times,serif\" font-size=\"14.00\">value = [0, 1, 2]</text>\n",
       "<text text-anchor=\"middle\" x=\"346.5\" y=\"-111.8\" font-family=\"Times,serif\" font-size=\"14.00\">class = virginica</text>\n",
       "</g>\n",
       "<!-- 9&#45;&gt;10 -->\n",
       "<g id=\"edge10\" class=\"edge\"><title>9&#45;&gt;10</title>\n",
       "<path fill=\"none\" stroke=\"black\" d=\"M405.928,-222.907C398.94,-213.923 391.467,-204.315 384.261,-195.05\"/>\n",
       "<polygon fill=\"black\" stroke=\"black\" points=\"386.918,-192.766 378.016,-187.021 381.393,-197.063 386.918,-192.766\"/>\n",
       "</g>\n",
       "<!-- 13 -->\n",
       "<g id=\"node14\" class=\"node\"><title>13</title>\n",
       "<polygon fill=\"none\" stroke=\"black\" points=\"554,-179.5 441,-179.5 441,-111.5 554,-111.5 554,-179.5\"/>\n",
       "<text text-anchor=\"middle\" x=\"497.5\" y=\"-164.3\" font-family=\"Times,serif\" font-size=\"14.00\">gini = 0.0</text>\n",
       "<text text-anchor=\"middle\" x=\"497.5\" y=\"-149.3\" font-family=\"Times,serif\" font-size=\"14.00\">samples = 2</text>\n",
       "<text text-anchor=\"middle\" x=\"497.5\" y=\"-134.3\" font-family=\"Times,serif\" font-size=\"14.00\">value = [0, 2, 0]</text>\n",
       "<text text-anchor=\"middle\" x=\"497.5\" y=\"-119.3\" font-family=\"Times,serif\" font-size=\"14.00\">class = versicolor</text>\n",
       "</g>\n",
       "<!-- 9&#45;&gt;13 -->\n",
       "<g id=\"edge13\" class=\"edge\"><title>9&#45;&gt;13</title>\n",
       "<path fill=\"none\" stroke=\"black\" d=\"M458.317,-222.907C463.975,-211.873 470.117,-199.898 475.822,-188.773\"/>\n",
       "<polygon fill=\"black\" stroke=\"black\" points=\"479.042,-190.162 480.491,-179.667 472.814,-186.968 479.042,-190.162\"/>\n",
       "</g>\n",
       "<!-- 11 -->\n",
       "<g id=\"node12\" class=\"node\"><title>11</title>\n",
       "<polygon fill=\"none\" stroke=\"black\" points=\"339,-68 226,-68 226,-0 339,-0 339,-68\"/>\n",
       "<text text-anchor=\"middle\" x=\"282.5\" y=\"-52.8\" font-family=\"Times,serif\" font-size=\"14.00\">gini = 0.0</text>\n",
       "<text text-anchor=\"middle\" x=\"282.5\" y=\"-37.8\" font-family=\"Times,serif\" font-size=\"14.00\">samples = 1</text>\n",
       "<text text-anchor=\"middle\" x=\"282.5\" y=\"-22.8\" font-family=\"Times,serif\" font-size=\"14.00\">value = [0, 1, 0]</text>\n",
       "<text text-anchor=\"middle\" x=\"282.5\" y=\"-7.8\" font-family=\"Times,serif\" font-size=\"14.00\">class = versicolor</text>\n",
       "</g>\n",
       "<!-- 10&#45;&gt;11 -->\n",
       "<g id=\"edge11\" class=\"edge\"><title>10&#45;&gt;11</title>\n",
       "<path fill=\"none\" stroke=\"black\" d=\"M322.669,-103.726C317.604,-95.0615 312.248,-85.8962 307.153,-77.1802\"/>\n",
       "<polygon fill=\"black\" stroke=\"black\" points=\"310.031,-75.167 301.963,-68.2996 303.987,-78.6992 310.031,-75.167\"/>\n",
       "</g>\n",
       "<!-- 12 -->\n",
       "<g id=\"node13\" class=\"node\"><title>12</title>\n",
       "<polygon fill=\"none\" stroke=\"black\" points=\"464,-68 357,-68 357,-0 464,-0 464,-68\"/>\n",
       "<text text-anchor=\"middle\" x=\"410.5\" y=\"-52.8\" font-family=\"Times,serif\" font-size=\"14.00\">gini = 0.0</text>\n",
       "<text text-anchor=\"middle\" x=\"410.5\" y=\"-37.8\" font-family=\"Times,serif\" font-size=\"14.00\">samples = 2</text>\n",
       "<text text-anchor=\"middle\" x=\"410.5\" y=\"-22.8\" font-family=\"Times,serif\" font-size=\"14.00\">value = [0, 0, 2]</text>\n",
       "<text text-anchor=\"middle\" x=\"410.5\" y=\"-7.8\" font-family=\"Times,serif\" font-size=\"14.00\">class = virginica</text>\n",
       "</g>\n",
       "<!-- 10&#45;&gt;12 -->\n",
       "<g id=\"edge12\" class=\"edge\"><title>10&#45;&gt;12</title>\n",
       "<path fill=\"none\" stroke=\"black\" d=\"M370.331,-103.726C375.396,-95.0615 380.752,-85.8962 385.847,-77.1802\"/>\n",
       "<polygon fill=\"black\" stroke=\"black\" points=\"389.013,-78.6992 391.037,-68.2996 382.969,-75.167 389.013,-78.6992\"/>\n",
       "</g>\n",
       "</g>\n",
       "</svg>\n"
      ],
      "text/plain": [
       "<graphviz.files.Source at 0x7f4d22539b90>"
      ]
     },
     "execution_count": 27,
     "metadata": {},
     "output_type": "execute_result"
    }
   ],
   "source": [
    "from sklearn.datasets import load_iris\r\n",
    "from sklearn import tree\r\n",
    "\r\n",
    "iris = load_iris()\r\n",
    "print(iris.target_names)\r\n",
    "print(iris.feature_names)\r\n",
    "\r\n",
    "xTrain, xTest, yTrain, yTest = train_test_split(iris.data,iris.target,\r\n",
    "                                                    test_size=0.3)       # 划分训练集与测试集\r\n",
    "clf = tree.DecisionTreeClassifier()\r\n",
    "clf=clf.fit(xTrain,yTrain)\r\n",
    "\r\n",
    "score=clf.score(xTest,yTest)    # 拟合评分\r\n",
    "print(score)\r\n",
    "\r\n",
    "import graphviz      # 可视化工具\r\n",
    "dot_data = tree.export_graphviz(clf, out_file=None,\r\n",
    "                                feature_names=iris.feature_names,  \r\n",
    "                                class_names=iris.target_names,  \r\n",
    "                                filled=False, rounded=False,  \r\n",
    "                                special_characters=False)  \r\n",
    "graph = graphviz.Source(dot_data)  \r\n",
    "graph"
   ]
  }
 ],
 "metadata": {
  "kernelspec": {
   "display_name": "PaddlePaddle 2.0.0b0 (Python 3.5)",
   "language": "python",
   "name": "py35-paddle1.2.0"
  },
  "language_info": {
   "codemirror_mode": {
    "name": "ipython",
    "version": 3
   },
   "file_extension": ".py",
   "mimetype": "text/x-python",
   "name": "python",
   "nbconvert_exporter": "python",
   "pygments_lexer": "ipython3",
   "version": "3.7.4"
  }
 },
 "nbformat": 4,
 "nbformat_minor": 1
}
